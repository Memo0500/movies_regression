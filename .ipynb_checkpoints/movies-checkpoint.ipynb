{
 "cells": [
  {
   "cell_type": "code",
   "execution_count": 1,
   "id": "4c55ab20",
   "metadata": {},
   "outputs": [],
   "source": [
    "from bs4 import BeautifulSoup\n",
    "import requests\n",
    "import time, os\n",
    "from collections import defaultdict\n",
    "from selenium import webdriver\n",
    "from selenium.webdriver.common.keys import Keys\n",
    "\n"
   ]
  },
  {
   "cell_type": "code",
   "execution_count": 2,
   "id": "250e380d",
   "metadata": {},
   "outputs": [],
   "source": [
    "chromedriver = \"/Users/snouto/Downloads/chromedriver\" \n",
    "os.environ[\"webdriver.chrome.driver\"] = chromedriver"
   ]
  },
  {
   "cell_type": "code",
   "execution_count": 3,
   "id": "cc05f980",
   "metadata": {},
   "outputs": [],
   "source": [
    "def get_movie_info(driver,url):\n",
    "    driver.get(url)\n",
    "    results = {}\n",
    "    bs = BeautifulSoup(driver.page_source,\"html5lib\")\n",
    "    genre_element = bs.select(\"div.facts > span.genres > a\")\n",
    "    user_rating_percentage = bs.find(\"div\",class_=\"user_score_chart\")\n",
    "    section = bs.find(\"section\",class_=\"facts left_column\")\n",
    "    if len(genre_element) > 0:\n",
    "        genres = [x.text for x in genre_element]\n",
    "        results['genre_count'] = str(len(genres))\n",
    "        results['genre'] = \",\".join(genres)\n",
    "    if user_rating_percentage:\n",
    "        results['rating'] = user_rating_percentage.get('data-percent')\n",
    "    paragraphs = section.select(\"p\")\n",
    "    keywords_section = bs.find(\"section\",class_=\"keywords right_column\")\n",
    "    keywords = keywords_section.select(\"li\")\n",
    "    results['keywords'] = str(len(keywords))\n",
    "    for p in paragraphs:\n",
    "        if \"Revenue\" in p.text:\n",
    "            results['revenue'] = p.text.replace(\"Revenue\",\"\").replace(\"$\",\"\")\n",
    "        if \"Budget\" in p.text:\n",
    "            results['budget'] = p.text.replace(\"Budget\",\"\").replace(\"$\",\"\")\n",
    "\n",
    "    return results"
   ]
  },
  {
   "cell_type": "code",
   "execution_count": 4,
   "id": "168d015d",
   "metadata": {},
   "outputs": [],
   "source": [
    "movies = defaultdict(dict)\n",
    "url = \"https://www.themoviedb.org/movie\"\n",
    "base_url = \"https://www.themoviedb.org\"\n",
    "output_file = \"/Users/snouto/Documents/movies/movies2.tsv\"\n",
    "num_scrolls = 100\n",
    "driver = webdriver.Chrome(chromedriver)\n",
    "driver.get(url)\n",
    "for _ in range(num_scrolls):\n",
    "    driver.execute_script(\"window.scrollTo(0,document.body.scrollHeight)\")\n",
    "    time.sleep(1)\n",
    "    \n",
    "        \n",
    "        "
   ]
  },
  {
   "cell_type": "code",
   "execution_count": 5,
   "id": "f41243b1",
   "metadata": {},
   "outputs": [
    {
     "name": "stdout",
     "output_type": "stream",
     "text": [
      "Downloaded : 99 Movies. Extending Them\n"
     ]
    }
   ],
   "source": [
    "bs = BeautifulSoup(driver.page_source, \"html5lib\")\n",
    "elements = bs.find_all(\"div\", class_=\"card style_1\")\n",
    "for element in elements:\n",
    "    movie = {}\n",
    "    movie_element = element.find(\"a\", class_=\"image\")\n",
    "    title = movie_element.get('title')\n",
    "    url = movie_element.get('href')\n",
    "    if title in movies:\n",
    "        # don't add duplicates\n",
    "        continue\n",
    "    movies[title]['title'] = title\n",
    "    movies[title]['url'] = f\"{base_url}{url}\"\n",
    "    # element.find(\"div\",class_=\"content\").find(\"p\")\n",
    "    release_date = element.select(\"div.content > p\")\n",
    "            # return list of one element (releasa_date)\n",
    "    if len(release_date) > 0:\n",
    "        movies[title]['release_date'] = release_date[0].text\n",
    "print(f\"Downloaded : {len(movies.keys())} Movies. Extending Them\")"
   ]
  },
  {
   "cell_type": "code",
   "execution_count": 6,
   "id": "03dabebe",
   "metadata": {},
   "outputs": [
    {
     "name": "stdout",
     "output_type": "stream",
     "text": [
      "Bringing information for movie: Venom: Let There Be Carnage\n",
      "Bringing information for movie: Free Guy\n",
      "Bringing information for movie: Venom\n",
      "Bringing information for movie: Snake Eyes: G.I. Joe Origins\n",
      "Bringing information for movie: Deathstroke: Knights & Dragons - The Movie\n",
      "Bringing information for movie: The Addams Family 2\n",
      "Bringing information for movie: Cosmic Sin\n",
      "Bringing information for movie: The Many Saints of Newark\n",
      "Bringing information for movie: The Last Warrior: Root of Evil\n",
      "Bringing information for movie: The Seven Deadly Sins: Cursed by Light\n",
      "Bringing information for movie: The Stronghold\n",
      "Bringing information for movie: Dragon Fury\n",
      "Bringing information for movie: Solitary\n",
      "Bringing information for movie: Shang-Chi and the Legend of the Ten Rings\n",
      "Bringing information for movie: The Suicide Squad\n",
      "Bringing information for movie: Crazy Fist\n",
      "Bringing information for movie: F9\n",
      "Bringing information for movie: Demon Slayer -Kimetsu no Yaiba- The Movie: Mugen Train\n",
      "Bringing information for movie: Jungle Cruise\n",
      "Bringing information for movie: Catch the Bullet\n",
      "Bringing information for movie: The Boss Baby: Family Business\n",
      "Bringing information for movie: Old\n",
      "Bringing information for movie: PAW Patrol: The Movie\n",
      "Bringing information for movie: LEGO Star Wars Terrifying Tales\n",
      "Bringing information for movie: Black Widow\n",
      "Bringing information for movie: After We Fell\n",
      "Bringing information for movie: Kate\n",
      "Bringing information for movie: Luca\n",
      "Bringing information for movie: Rogue Hostage\n",
      "Bringing information for movie: My Little Pony: A New Generation\n",
      "Bringing information for movie: Space Jam: A New Legacy\n",
      "Bringing information for movie: SAS: Red Notice\n",
      "Bringing information for movie: Demonic\n",
      "Bringing information for movie: Sweet Girl\n",
      "Bringing information for movie: Jurassic Hunt\n",
      "Bringing information for movie: Redemption Day\n",
      "Bringing information for movie: Mortal Kombat\n",
      "Bringing information for movie: How I Became a Superhero\n",
      "Bringing information for movie: Don't Breathe 2\n",
      "Bringing information for movie: No One Gets Out Alive\n",
      "Bringing information for movie: Ainbo: Spirit of the Amazon\n",
      "Bringing information for movie: No Time to Die\n",
      "Bringing information for movie: Narco Sub\n",
      "Bringing information for movie: Infinite\n",
      "Bringing information for movie: Escape The Undertaker\n",
      "Bringing information for movie: Ava\n",
      "Bringing information for movie: The Tomorrow War\n",
      "Bringing information for movie: Wrath of Man\n",
      "Bringing information for movie: Cruella\n",
      "Bringing information for movie: Dynasty Warriors\n",
      "Bringing information for movie: Matando Cabos 2, La Máscara del Máscara\n",
      "Bringing information for movie: Straight Outta Nowhere: Scooby-Doo! Meets Courage the Cowardly Dog\n",
      "Bringing information for movie: Rurouni Kenshin: The Beginning\n",
      "Bringing information for movie: Godzilla vs. Kong\n",
      "Bringing information for movie: Swim\n",
      "Bringing information for movie: Halloween Kills\n",
      "Bringing information for movie: Malignant\n",
      "Bringing information for movie: García y García\n",
      "Bringing information for movie: The Courier\n",
      "Bringing information for movie: Mobile Suit Gundam Hathaway\n",
      "Bringing information for movie: Carriers\n",
      "Bringing information for movie: Long Story Short\n",
      "Bringing information for movie: Avatar\n",
      "Bringing information for movie: The Forever Purge\n",
      "Bringing information for movie: Escape Room: Tournament of Champions\n",
      "Bringing information for movie: Zack Snyder's Justice League\n",
      "Bringing information for movie: Knowing\n",
      "Bringing information for movie: Dune\n",
      "Bringing information for movie: The Conjuring: The Devil Made Me Do It\n",
      "Bringing information for movie: Army of the Dead\n",
      "Bringing information for movie: Eggs Run\n",
      "Bringing information for movie: Barbie: Big City, Big Dreams\n",
      "Bringing information for movie: The Kids Are Alright: Destination Asturias\n",
      "Bringing information for movie: Miraculous World: Shanghai – The Legend of Ladydragon\n",
      "Bringing information for movie: Jolt\n",
      "Bringing information for movie: Black Water: Abyss\n",
      "Bringing information for movie: Nightbooks\n",
      "Bringing information for movie: Monster Pets: A Hotel Transylvania Short\n",
      "Bringing information for movie: The Unholy\n",
      "Bringing information for movie: Mortal Kombat Legends: Battle of the Realms\n",
      "Bringing information for movie: There's Someone Inside Your House\n",
      "Bringing information for movie: Major Grom: Plague Doctor\n",
      "Bringing information for movie: Injustice\n",
      "Bringing information for movie: The Last Mercenary\n",
      "Bringing information for movie: Beckett\n",
      "Bringing information for movie: The Misfits\n",
      "Bringing information for movie: The Marco Effect\n",
      "Bringing information for movie: Raya and the Last Dragon\n",
      "Bringing information for movie: The Amazing Spider-Man\n",
      "Bringing information for movie: Confessions of an Invisible Girl\n",
      "Bringing information for movie: The Simpsons: The Good, the Bart, and the Loki\n",
      "Bringing information for movie: Sinkhole\n",
      "Bringing information for movie: Sounds Like Love\n",
      "Bringing information for movie: My Hero Academia: Heroes Rising\n",
      "Bringing information for movie: The Marksman\n",
      "Bringing information for movie: Body Brokers\n",
      "Bringing information for movie: Candyman\n",
      "Bringing information for movie: El mesero\n",
      "Bringing information for movie: Mutation on Mars\n"
     ]
    }
   ],
   "source": [
    "# download more Details for movies\n",
    "for title, movie in movies.items():\n",
    "    print(f\"Bringing information for movie: {title}\")\n",
    "    movie_details = get_movie_info(driver,movie['url'])\n",
    "    movies[title].update(movie_details)"
   ]
  },
  {
   "cell_type": "code",
   "execution_count": 7,
   "id": "2ccad12e",
   "metadata": {},
   "outputs": [
    {
     "name": "stdout",
     "output_type": "stream",
     "text": [
      "Saving Results to the output file /Users/snouto/Documents/movies/movies2.tsv.\n",
      "results saved...\n"
     ]
    }
   ],
   "source": [
    "# save data to Tab Separated Values\n",
    "print(f\"Saving Results to the output file {output_file}.\")\n",
    "with open(output_file,\"w\") as writer:\n",
    "    keys = list(movies.keys())\n",
    "    headers = list(movies[keys[0]].keys())\n",
    "    headers = \"\\t\".join(headers)\n",
    "    writer.write(headers+\"\\n\")\n",
    "    for title , movie in movies.items():\n",
    "        row = list(movie.values())\n",
    "        writer.write(\"\\t\".join(row)+\"\\n\")\n",
    "\n",
    "print(\"results saved...\")"
   ]
  }
 ],
 "metadata": {
  "kernelspec": {
   "display_name": "Python 3",
   "language": "python",
   "name": "python3"
  },
  "language_info": {
   "codemirror_mode": {
    "name": "ipython",
    "version": 3
   },
   "file_extension": ".py",
   "mimetype": "text/x-python",
   "name": "python",
   "nbconvert_exporter": "python",
   "pygments_lexer": "ipython3",
   "version": "3.8.8"
  }
 },
 "nbformat": 4,
 "nbformat_minor": 5
}
